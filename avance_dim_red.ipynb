{
  "nbformat": 4,
  "nbformat_minor": 0,
  "metadata": {
    "colab": {
      "provenance": [],
      "include_colab_link": true
    },
    "kernelspec": {
      "name": "python3",
      "display_name": "Python 3"
    },
    "language_info": {
      "name": "python"
    }
  },
  "cells": [
    {
      "cell_type": "markdown",
      "metadata": {
        "id": "view-in-github",
        "colab_type": "text"
      },
      "source": [
        "<a href=\"https://colab.research.google.com/github/davidgiraldo30/environment/blob/master/avance_dim_red.ipynb\" target=\"_parent\"><img src=\"https://colab.research.google.com/assets/colab-badge.svg\" alt=\"Open In Colab\"/></a>"
      ]
    },
    {
      "cell_type": "markdown",
      "source": [
        "# Machine Learning II\n",
        "# Dimensionality Reduction\n",
        "\n",
        "#### David Alejandro Giraldo Montoya\n",
        "#### CC 1020451546"
      ],
      "metadata": {
        "id": "9AbM-SZCwm91"
      }
    },
    {
      "cell_type": "code",
      "source": [
        "!pip install pillow"
      ],
      "metadata": {
        "colab": {
          "base_uri": "https://localhost:8080/"
        },
        "id": "1s3LB7Xc5nuy",
        "outputId": "abbb525e-e116-4a63-f0f5-3f7ae33aa03b"
      },
      "execution_count": 22,
      "outputs": [
        {
          "output_type": "stream",
          "name": "stdout",
          "text": [
            "Looking in indexes: https://pypi.org/simple, https://us-python.pkg.dev/colab-wheels/public/simple/\n",
            "Requirement already satisfied: pillow in /usr/local/lib/python3.9/dist-packages (8.4.0)\n"
          ]
        }
      ]
    },
    {
      "cell_type": "code",
      "execution_count": 23,
      "metadata": {
        "id": "hILOr69NqQjf"
      },
      "outputs": [],
      "source": [
        "import numpy as np\n",
        "from PIL import Image\n",
        "import os"
      ]
    },
    {
      "cell_type": "code",
      "source": [
        "from google.colab import drive\n",
        "drive.mount('/content/drive')"
      ],
      "metadata": {
        "colab": {
          "base_uri": "https://localhost:8080/"
        },
        "id": "MKd8HnlABkIh",
        "outputId": "a31de076-119a-40ec-aff1-0bed58e3c56d"
      },
      "execution_count": 24,
      "outputs": [
        {
          "output_type": "stream",
          "name": "stdout",
          "text": [
            "Drive already mounted at /content/drive; to attempt to forcibly remount, call drive.mount(\"/content/drive\", force_remount=True).\n"
          ]
        }
      ]
    },
    {
      "cell_type": "code",
      "source": [
        "os.chdir('/content/drive/MyDrive/Colab Notebooks/faces')"
      ],
      "metadata": {
        "id": "nSf0wKvO_lvh"
      },
      "execution_count": 25,
      "outputs": []
    },
    {
      "cell_type": "code",
      "source": [
        "os.getcwd()"
      ],
      "metadata": {
        "colab": {
          "base_uri": "https://localhost:8080/",
          "height": 35
        },
        "id": "Z9rnXBmLCwLp",
        "outputId": "2868dabd-d330-422e-edd3-1a3556fa9bb4"
      },
      "execution_count": 26,
      "outputs": [
        {
          "output_type": "execute_result",
          "data": {
            "text/plain": [
              "'/content/drive/MyDrive/Colab Notebooks/faces'"
            ],
            "application/vnd.google.colaboratory.intrinsic+json": {
              "type": "string"
            }
          },
          "metadata": {},
          "execution_count": 26
        }
      ]
    },
    {
      "cell_type": "markdown",
      "source": [
        "# Workshop I"
      ],
      "metadata": {
        "id": "u_G-faaAxPwB"
      }
    },
    {
      "cell_type": "markdown",
      "source": [
        "## 1. Simulate any random rectangular matrix A."
      ],
      "metadata": {
        "id": "PE4V_IUwsSdw"
      }
    },
    {
      "cell_type": "code",
      "source": [
        "rows= 3\n",
        "cols= 3\n",
        "\n",
        "# Square matrix for determinate calculus purposes\n",
        "\n",
        "A= np.random.rand(rows, cols)\n",
        "print(A)\n"
      ],
      "metadata": {
        "colab": {
          "base_uri": "https://localhost:8080/"
        },
        "id": "FCy0bZ46teo_",
        "outputId": "981dc345-5e7d-412a-8b3a-9ca101e518cc"
      },
      "execution_count": 8,
      "outputs": [
        {
          "output_type": "stream",
          "name": "stdout",
          "text": [
            "[[0.85272682 0.60600661 0.38786353]\n",
            " [0.50610524 0.40562495 0.13628058]\n",
            " [0.91597513 0.37046452 0.34722087]]\n"
          ]
        }
      ]
    },
    {
      "cell_type": "code",
      "source": [
        "A.shape"
      ],
      "metadata": {
        "colab": {
          "base_uri": "https://localhost:8080/"
        },
        "id": "4oucgXxQt_kX",
        "outputId": "826492b8-ffc8-42e2-c16d-6e4948729ff6"
      },
      "execution_count": 9,
      "outputs": [
        {
          "output_type": "execute_result",
          "data": {
            "text/plain": [
              "(3, 3)"
            ]
          },
          "metadata": {},
          "execution_count": 9
        }
      ]
    },
    {
      "cell_type": "markdown",
      "source": [
        "Both"
      ],
      "metadata": {
        "id": "qvm2Zf_aUsSI"
      }
    },
    {
      "cell_type": "markdown",
      "source": [
        "### - What is the rank and trace of A?"
      ],
      "metadata": {
        "id": "q2-mBcB4sli6"
      }
    },
    {
      "cell_type": "code",
      "source": [
        "rank = np.linalg.matrix_rank(A)\n",
        "print(f'The Rank for matrix A is: {rank}')\n",
        "#The rank of a matrix is its min number of columns or rows, which gives the maximum number of linearly independent rows or columns. \n",
        "\n",
        "trace = np.trace(A)\n",
        "print(f'the Trace for matrix A is: {trace}')\n",
        "# Calculation of eigenvalues: The trace of a matrix is closely related to its eigenvalues. The sum of the eigenvalues of a matrix equals its trace. \n",
        "# It is useful, among others, to calculate the determinant of the matrix."
      ],
      "metadata": {
        "colab": {
          "base_uri": "https://localhost:8080/"
        },
        "id": "eKDIFkqruNOH",
        "outputId": "620e7807-a780-4a09-c1e1-07883266f05f"
      },
      "execution_count": 10,
      "outputs": [
        {
          "output_type": "stream",
          "name": "stdout",
          "text": [
            "The Rank for matrix A is: 3\n",
            "the Trace for matrix A is: 1.6055726390560774\n"
          ]
        }
      ]
    },
    {
      "cell_type": "markdown",
      "source": [
        "### - What is the determinant of A?"
      ],
      "metadata": {
        "id": "7eJJjirXtZkT"
      }
    },
    {
      "cell_type": "code",
      "source": [
        "determinant= np.linalg.det(A)\n",
        "print(determinant)"
      ],
      "metadata": {
        "colab": {
          "base_uri": "https://localhost:8080/"
        },
        "id": "EFntle7FvL6n",
        "outputId": "d654d7f6-1daf-47d2-e287-124eb31679d5"
      },
      "execution_count": 11,
      "outputs": [
        {
          "output_type": "stream",
          "name": "stdout",
          "text": [
            "-0.025184225437162786\n"
          ]
        }
      ]
    },
    {
      "cell_type": "markdown",
      "source": [
        "### - Can you invert A? How?"
      ],
      "metadata": {
        "id": "2vhOJ4TktjZ2"
      }
    },
    {
      "cell_type": "code",
      "source": [
        "inverse= np.linalg.inv(A)\n",
        "print(inverse)"
      ],
      "metadata": {
        "colab": {
          "base_uri": "https://localhost:8080/"
        },
        "id": "mpHwr7QhvMbt",
        "outputId": "49cdf4c3-57ec-4e01-fea7-bb1a9a6bbe8a"
      },
      "execution_count": 12,
      "outputs": [
        {
          "output_type": "stream",
          "name": "stdout",
          "text": [
            "[[-3.58773511  2.64961364  2.96773846]\n",
            " [ 2.02113342  2.35023306 -3.18015178]\n",
            " [ 7.30808005 -9.4972925  -1.55590075]]\n"
          ]
        }
      ]
    },
    {
      "cell_type": "code",
      "source": [
        "dot1= np.dot(A, inverse)\n",
        "print(np.round(dot1, 2))\n",
        "\n",
        "dot2= np.dot(inverse, A)\n",
        "print(np.round(dot2, 2))\n"
      ],
      "metadata": {
        "colab": {
          "base_uri": "https://localhost:8080/"
        },
        "id": "Zk7Y31VbvMev",
        "outputId": "c14ba784-5bc8-4147-c55b-60ab9a60dff6"
      },
      "execution_count": 13,
      "outputs": [
        {
          "output_type": "stream",
          "name": "stdout",
          "text": [
            "[[ 1. -0. -0.]\n",
            " [ 0.  1. -0.]\n",
            " [-0. -0.  1.]]\n",
            "[[ 1. -0. -0.]\n",
            " [-0.  1.  0.]\n",
            " [ 0.  0.  1.]]\n"
          ]
        }
      ]
    },
    {
      "cell_type": "code",
      "source": [
        "eighValues, eighVec= np.linalg.eig(dot1)\n",
        "\n",
        "print(f'eighValues: {eighValues} \\n ---- eighVec: {eighVec}')"
      ],
      "metadata": {
        "colab": {
          "base_uri": "https://localhost:8080/"
        },
        "id": "NndirRQdzV8o",
        "outputId": "63a62005-8018-410c-ca38-9b427425e3dd"
      },
      "execution_count": null,
      "outputs": [
        {
          "output_type": "stream",
          "name": "stdout",
          "text": [
            "eighValues: [1. 1. 1. 1. 1. 1.] \n",
            " ---- eighVec: [[ 1.         -0.24536516 -0.22731553  0.06426022 -0.16405968  0.30763462]\n",
            " [ 0.         -0.54094041 -0.35690834  0.13031344  0.10284439  0.03850031]\n",
            " [ 0.          0.64608674 -0.23451063 -0.3200731   0.60304819 -0.20832798]\n",
            " [ 0.          0.38781583 -0.21559178 -0.92401566 -0.09593986  0.0378153 ]\n",
            " [ 0.          0.19209258 -0.81798359 -0.13109368 -0.49641916  0.12406766]\n",
            " [ 0.          0.2060356  -0.22443683  0.07383594  0.58583607  0.91850712]]\n"
          ]
        }
      ]
    },
    {
      "cell_type": "code",
      "source": [
        "eighValues, eighVec= np.linalg.eig(dot2)\n",
        "\n",
        "print(f'eighValues {eighValues} \\n eighVec {eighVec}')"
      ],
      "metadata": {
        "colab": {
          "base_uri": "https://localhost:8080/"
        },
        "id": "G8rp7va0013S",
        "outputId": "af3e70b8-e80d-49c5-90cd-90eed73f0251"
      },
      "execution_count": null,
      "outputs": [
        {
          "output_type": "stream",
          "name": "stdout",
          "text": [
            "eighValues [1.+0.00000000e+00j 1.+3.04047097e-16j 1.-3.04047097e-16j\n",
            " 1.+0.00000000e+00j 1.+0.00000000e+00j 1.+0.00000000e+00j] \n",
            " eighVec [[-0.56227746+0.j          0.02830987+0.16848456j  0.02830987-0.16848456j\n",
            "   0.31109501+0.j         -0.02301951+0.j          0.33976307+0.j        ]\n",
            " [-0.46933526+0.j         -0.50592483-0.12210948j -0.50592483+0.12210948j\n",
            "   0.4061225 +0.j          0.65242719+0.j         -0.05316383+0.j        ]\n",
            " [ 0.65344409+0.j          0.2891296 +0.44272073j  0.2891296 -0.44272073j\n",
            "   0.04998325+0.j         -0.12214694+0.j         -0.67578513+0.j        ]\n",
            " [-0.14001618+0.j          0.00862448-0.24762622j  0.00862448+0.24762622j\n",
            "  -0.51873517+0.j          0.69079406+0.j          0.35999922+0.j        ]\n",
            " [-0.10728975+0.j         -0.0911788 -0.21540037j -0.0911788 +0.21540037j\n",
            "  -0.59328841+0.j         -0.17324722+0.j          0.16135561+0.j        ]\n",
            " [ 0.07391661+0.j          0.55157887+0.j          0.55157887-0.j\n",
            "   0.33868683+0.j         -0.22732785+0.j         -0.51905111+0.j        ]]\n"
          ]
        }
      ]
    },
    {
      "cell_type": "markdown",
      "source": [
        "In theory AA′=IyA′A=I should be equal nevertheless in the practice, computational operations, go to a maximum detail and results, for elements outside of the diagonal, difer to the expected zero. Results still can be used considering the limit or the approximation."
      ],
      "metadata": {
        "id": "uKMiiYRiYdWn"
      }
    },
    {
      "cell_type": "markdown",
      "source": [
        "## 2. Add a steady, well-centered picture of your face to a shared folder alongside your classmates."
      ],
      "metadata": {
        "id": "TH6SQaIlYc2m"
      }
    },
    {
      "cell_type": "code",
      "source": [
        "images_folder= os.listdir('.')\n",
        "print(images_folder)"
      ],
      "metadata": {
        "id": "GZ1Zrdfv_Z9B",
        "colab": {
          "base_uri": "https://localhost:8080/"
        },
        "outputId": "da2ce42a-07ae-48bd-c1c2-905f4186c119"
      },
      "execution_count": 28,
      "outputs": [
        {
          "output_type": "stream",
          "name": "stdout",
          "text": [
            "['Lina Martinez.jpeg', 'Jose Alejandro Llano.jpeg', 'Daniel V.jpeg', 'DanielaAguiarV.jpg', 'AlejandroC.jpeg', 'DavidG.jpg', 'JD.jpg', 'JoseAlcocer.jpg', 'JuanPabloM.png', 'Robinson_Alvarez.jpeg', 'JuanCh.png', 'JorgeMorales.jpg', 'Santiago M.jpeg', 'SantiagoRG.jpeg', 'Laura.jpeg', 'MariaMartinez.jpg', 'ManuelaPiedrahita.jpeg', 'Carolina Bareño.jpg', 'Daniela Hernandez.jpeg', 'VanessaLopera.jpg', 'David Zapata.jpeg', 'mauriciosierrav.png', 'walter.jpeg', 'Carlos Andrés Sepúlveda Calle.jpeg', 'MiltonBenavides.jpg', 'JorgeMorales.jpeg']\n"
          ]
        }
      ]
    },
    {
      "cell_type": "markdown",
      "source": [
        "### - Edit your picture to be 256x256 pixels, grayscale (single channel)"
      ],
      "metadata": {
        "id": "FSz9NRK-wgpJ"
      }
    },
    {
      "cell_type": "code",
      "source": [
        "faces = [Image.open(os.path.join('.', i)) for i in images_folder]\n",
        "size= (256, 256)\n",
        "\n",
        "faces= [face.resize(size) for face in faces]\n",
        "faces= [face.convert('L') for face in faces]\n"
      ],
      "metadata": {
        "id": "-S0wfO17DCHA"
      },
      "execution_count": 37,
      "outputs": []
    },
    {
      "cell_type": "markdown",
      "source": [
        "###- Plot your edited face"
      ],
      "metadata": {
        "id": "MODiFvB5wnex"
      }
    },
    {
      "cell_type": "code",
      "source": [
        "my_face = Image.open(os.path.join('.', 'DavidG.jpg'))\n",
        "my_face= my_face.resize(size)\n",
        "my_face= my_face.convert('L')\n",
        "\n",
        "my_face.show()\n",
        "\n"
      ],
      "metadata": {
        "colab": {
          "base_uri": "https://localhost:8080/",
          "height": 273
        },
        "id": "O_dYizhPwpD5",
        "outputId": "9dcb129d-eb6a-4436-8d44-5f57404b3ac2"
      },
      "execution_count": 38,
      "outputs": [
        {
          "output_type": "display_data",
          "data": {
            "text/plain": [
              "<PIL.Image.Image image mode=L size=256x256 at 0x7FF1BCC3A070>"
            ],
            "image/png": "[encoded data removed]"
          },
          "metadata": {}
        }
      ]
    },
    {
      "cell_type": "markdown",
      "source": [
        "### - Calculate and plot the average face of the cohort."
      ],
      "metadata": {
        "id": "M-47AG7x23LT"
      }
    },
    {
      "cell_type": "code",
      "source": [
        "faces_array= [np.array(face) for face in faces]\n",
        "faces_array_mean= np.mean(faces_array, axis=0)\n",
        "faces_mean= Image.fromarray(faces_array_mean)"
      ],
      "metadata": {
        "id": "BIjOLl9HEd6d"
      },
      "execution_count": 45,
      "outputs": []
    },
    {
      "cell_type": "code",
      "source": [
        "faces_mean.show()"
      ],
      "metadata": {
        "colab": {
          "base_uri": "https://localhost:8080/",
          "height": 273
        },
        "id": "kQtJt5OLEeSa",
        "outputId": "21e42331-6675-4b2e-dcd2-173be7eb5252"
      },
      "execution_count": 46,
      "outputs": [
        {
          "output_type": "display_data",
          "data": {
            "text/plain": [
              "<PIL.Image.Image image mode=L size=256x256 at 0x7FF1BCB57CD0>"
            ],
            "image/png": "[encoded data removed]"
          },
          "metadata": {}
        }
      ]
    },
    {
      "cell_type": "markdown",
      "source": [
        "### - How distant is your face from the average? How would you measure it?"
      ],
      "metadata": {
        "id": "cFGdhEebwEVl"
      }
    },
    {
      "cell_type": "code",
      "source": [
        "imageArrayJD = np.array(image_JD)"
      ],
      "metadata": {
        "id": "xj4KRKHi6PMm"
      },
      "execution_count": null,
      "outputs": []
    },
    {
      "cell_type": "code",
      "source": [
        "\n",
        "\n",
        "distance = faces_array_mean - my_face\n",
        "print(distance)"
      ],
      "metadata": {
        "colab": {
          "base_uri": "https://localhost:8080/"
        },
        "id": "S7IZQUkptKUQ",
        "outputId": "ac6dbfaa-79c0-4e2c-bc6c-e008b662e53f"
      },
      "execution_count": 47,
      "outputs": [
        {
          "output_type": "stream",
          "name": "stdout",
          "text": [
            "[[109.26923077 114.15384615 114.5        ... -19.53846154 -19.19230769\n",
            "  -20.23076923]\n",
            " [107.         109.73076923 112.15384615 ... -19.15384615 -21.30769231\n",
            "  -21.19230769]\n",
            " [106.34615385 114.65384615 117.53846154 ... -18.26923077 -18.57692308\n",
            "  -17.5       ]\n",
            " ...\n",
            " [100.84615385 107.15384615 108.53846154 ...  91.15384615  91.03846154\n",
            "   90.15384615]\n",
            " [100.46153846 104.30769231 109.57692308 ...  94.80769231  94.53846154\n",
            "   96.11538462]\n",
            " [ 99.5        105.80769231 110.46153846 ...  94.73076923  94.88461538\n",
            "   96.19230769]]\n"
          ]
        }
      ]
    },
    {
      "cell_type": "code",
      "source": [
        "distance_image = Image.fromarray(distance)\n",
        "distance_image.show()"
      ],
      "metadata": {
        "colab": {
          "base_uri": "https://localhost:8080/",
          "height": 273
        },
        "id": "duOsmEemtedy",
        "outputId": "c2ceadb4-990c-47cf-f5a7-5ffc6c26dcfb"
      },
      "execution_count": 48,
      "outputs": [
        {
          "output_type": "display_data",
          "data": {
            "text/plain": [
              "<PIL.Image.Image image mode=L size=256x256 at 0x7FF1BCC1AF40>"
            ],
            "image/png": "[encoded data removed]"
          },
          "metadata": {}
        }
      ]
    },
    {
      "cell_type": "markdown",
      "source": [
        "I chose to measure how distant my picture is from the average with the rest of both images. From the aboce result I conclude that my face is something as similar to the others, except by my left eye, maybe because of the picture's position, and except by my hair. As my wall has some images, it is appreciated in the difference of both pictures."
      ],
      "metadata": {
        "id": "mE6KX6LL6jPI"
      }
    },
    {
      "cell_type": "code",
      "source": [
        "print(np.corrcoef(imageArrayJD, ImageMean))\n",
        "print(np.mean(np.corrcoef(imageArrayJD, ImageArrayMean)))"
      ],
      "metadata": {
        "colab": {
          "base_uri": "https://localhost:8080/"
        },
        "id": "UX9d9wdcEeUa",
        "outputId": "a7ec6aca-81d3-4c3b-8b68-b83828b81a77"
      },
      "execution_count": null,
      "outputs": [
        {
          "output_type": "stream",
          "name": "stdout",
          "text": [
            "[[ 1.          0.88318204  0.79370435 ... -0.26194009 -0.23216347\n",
            "  -0.22722657]\n",
            " [ 0.88318204  1.          0.9706407  ... -0.40281983 -0.39166843\n",
            "  -0.40656605]\n",
            " [ 0.79370435  0.9706407   1.         ... -0.42918963 -0.42974015\n",
            "  -0.45412462]\n",
            " ...\n",
            " [-0.26194009 -0.40281983 -0.42918963 ...  1.          0.96739779\n",
            "   0.94420703]\n",
            " [-0.23216347 -0.39166843 -0.42974015 ...  0.96739779  1.\n",
            "   0.9848108 ]\n",
            " [-0.22722657 -0.40656605 -0.45412462 ...  0.94420703  0.9848108\n",
            "   1.        ]]\n",
            "0.44561730452810516\n"
          ]
        }
      ]
    },
    {
      "cell_type": "markdown",
      "source": [
        "## 3. Let’s create the unsupervised Python package\n"
      ],
      "metadata": {
        "id": "nbcEJXSev4_K"
      }
    },
    {
      "cell_type": "code",
      "source": [
        "import PCAJD as PJD"
      ],
      "metadata": {
        "id": "K21nQbwDLgYV"
      },
      "execution_count": null,
      "outputs": []
    },
    {
      "cell_type": "code",
      "source": [
        "pca= PJD.PCA(n_components= 50)\n",
        "\n",
        "pca.fit(ImageArrayJD)\n",
        "\n",
        "ImaTranfromed= pca.transform(ImageArrayJD)\n"
      ],
      "metadata": {
        "id": "rHc69J1GLgtg"
      },
      "execution_count": null,
      "outputs": []
    },
    {
      "cell_type": "code",
      "source": [
        "class PCA:\n",
        "    def __init__(self, n_components):\n",
        "        self.n_components = n_components\n",
        "        self.components = None\n",
        "        self.mean = None\n",
        "\n",
        "    def fit(self, X):\n",
        "        # center the data\n",
        "        self.mean = np.mean(X, axis=0)\n",
        "        X = X - self.mean\n",
        "\n",
        "        # compute the covariance matrix\n",
        "        cov = np.cov(X, rowvar=False)\n",
        "\n",
        "        # compute the eigenvalues and eigenvectors of the covariance matrix\n",
        "        eigenvalues, eigenvectors = np.linalg.eigh(cov)\n",
        "\n",
        "        # sort the eigenvalues and eigenvectors in decreasing order\n",
        "        idx = np.argsort(eigenvalues)[::-1]\n",
        "        eigenvalues = eigenvalues[idx]\n",
        "        eigenvectors = eigenvectors[:, idx]\n",
        "\n",
        "        # store the first n_components eigenvectors as the principal components\n",
        "        self.components = eigenvectors[:, : self.n_components]\n",
        "\n",
        "    def transform(self, X):\n",
        "        # center the data\n",
        "        X = X - self.mean\n",
        "\n",
        "        # project the data onto the principal components\n",
        "        X_transformed = np.dot(X, self.components)\n",
        "\n",
        "        return X_transformed"
      ],
      "metadata": {
        "id": "1m9U79-oLgvx"
      },
      "execution_count": null,
      "outputs": []
    },
    {
      "cell_type": "code",
      "source": [
        "pca= PCA(n_components= 50)\n",
        "\n",
        "pca.fit(ImageArrayJD)\n",
        "\n",
        "ImaTranfromed= pca.transform(ImageArrayJD)"
      ],
      "metadata": {
        "id": "dVm6ibs3Lgzd"
      },
      "execution_count": null,
      "outputs": []
    },
    {
      "cell_type": "code",
      "source": [
        "ImagePCA2= Image.fromarray(ImaTranfromed)\n",
        "\n",
        "ImagePCA2.show()"
      ],
      "metadata": {
        "id": "Qp1CT6iMS4T3"
      },
      "execution_count": null,
      "outputs": []
    },
    {
      "cell_type": "code",
      "source": [
        "U, S, V = np.linalg.svd(ImageArrayJD)\n",
        "k= 50\n",
        "\n",
        "ImageTranformSVD= U[:, :k] @ np.diag(S[:k]) @V[:k, :]\n",
        "\n"
      ],
      "metadata": {
        "id": "qfwcc704Tkya"
      },
      "execution_count": null,
      "outputs": []
    },
    {
      "cell_type": "code",
      "source": [
        "Image_SVD_JD= Image.fromarray(ImageTranformSVD)\n",
        "\n",
        "Image_SVD_JD.show()"
      ],
      "metadata": {
        "id": "idZlKsqITlCP"
      },
      "execution_count": null,
      "outputs": []
    },
    {
      "cell_type": "code",
      "source": [],
      "metadata": {
        "id": "TADTW5Q6TlGE"
      },
      "execution_count": null,
      "outputs": []
    },
    {
      "cell_type": "code",
      "source": [
        "import numpy as np\n",
        "from sklearn.linear_model import LogisticRegression\n",
        "from sklearn.datasets import fetch_openml\n",
        "\n",
        "mnist = fetch_openml('mnist_784')\n",
        "X = mnist.data\n",
        "y = mnist.target.astype(np.int)\n",
        "X_filtered = X[(y == 0) | (y == 8)]\n",
        "y_filtered = y[(y == 0) | (y == 8)]\n",
        "\n",
        "split = 6000  # Usamos las primeras 6000 imágenes para entrenamiento\n",
        "X_train, X_test = X_filtered[:split], X_filtered[split:]\n",
        "y_train, y_test = y_filtered[:split], y_filtered[split:]\n",
        "\n",
        "model = LogisticRegression(random_state=0)\n",
        "model.fit(X_train, y_train)\n",
        "\n",
        "accuracy = model.score(X_test, y_test)\n",
        "print(f\"Accuracy: {accuracy}\")"
      ],
      "metadata": {
        "id": "F5ID9IyfTlKj"
      },
      "execution_count": null,
      "outputs": []
    },
    {
      "cell_type": "markdown",
      "source": [
        "## 8. What strategies do you know (or can think of) in order to make PCA more robust? (Bonus points for implementing them)"
      ],
      "metadata": {
        "id": "rJ21L-teCXOb"
      }
    },
    {
      "cell_type": "markdown",
      "source": [
        "PCA es bueno para reducir las dimensiones de una base de datos cuando hay poco ruido entre las observaciones. Sin embargo, algunos pocas observaciones pueden afectar el resultado, por lo que una alternativa para hacerlo más robusto es escalar los datos normalizandolos.\n",
        "\n",
        "Al igual que reconfigurando la escala de los datos, otra opción es hace un análisis de datos atípicos con su correspondiente remoción y de esta forma evitar que estos incidan sobre el resultado.\n",
        "\n",
        "También es posible que los datos faltantes afecten las salidas de un PCA por lo que una alternativa es realizar imputación de datos. Sin embargo, en lo personal me parece una opción poco efectiva puesto que es alimentar el modelo con los mismos componentes, por lo que a mi consideración se terminaría haciendo un análisis de componentes principales sobre una base de datos que gira en torno a datos sesgados a la media (si es que esta fuera la técnica de imputación elegida y una de las más comunes).\n",
        "\n",
        "Si la base de datos es muy grande en dimensión / número de variables, se puede aplicar feature selection o feature extraction antes de aplicar el PCA, de manera que perturbaciones en las variables elegidas no impacten el resultado del análisis y por lo tanto el PCA sea más robusto."
      ],
      "metadata": {
        "id": "SmZqeJ9aCgVr"
      }
    },
    {
      "cell_type": "markdown",
      "source": [
        "## 9. What are the underlying mathematical principles behind UMAP? What is it useful for?"
      ],
      "metadata": {
        "id": "IhnYgdVJBt94"
      }
    },
    {
      "cell_type": "markdown",
      "source": [
        "UMAP (Uniform Manifold Approximation and Projection). Es una técnica de reducción de dimensionalidad utilizada para datos de alta dimensionalidad. "
      ],
      "metadata": {
        "id": "ulKQCuX4Eyz4"
      }
    }
  ]
}